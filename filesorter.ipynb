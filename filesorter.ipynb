{
 "cells": [
  {
   "cell_type": "code",
   "execution_count": null,
   "metadata": {},
   "outputs": [],
   "source": [
    "import nbimporter"
   ]
  },
  {
   "cell_type": "code",
   "execution_count": 37,
   "metadata": {},
   "outputs": [
    {
     "name": "stdout",
     "output_type": "stream",
     "text": [
      "Directories:\n",
      " - 2001213132\n",
      " - 2109312682\n",
      " - 2201335231\n",
      " - 2302396222\n",
      " - 2305402849\n",
      " - 2307410935\n",
      " - 2405446933\n",
      " - 2405448321\n",
      " - 2406449084\n",
      " - 2406449180\n",
      " - 2406452153\n",
      " - 2406452425\n",
      "\n",
      "Files:\n",
      "Error: result is None, which should not happen.\n"
     ]
    },
    {
     "name": "stderr",
     "output_type": "stream",
     "text": [
      "<>:3: SyntaxWarning: invalid escape sequence '\\C'\n",
      "<>:3: SyntaxWarning: invalid escape sequence '\\C'\n",
      "C:\\Users\\jimmy.lay\\AppData\\Local\\Temp\\ipykernel_13984\\3501239795.py:3: SyntaxWarning: invalid escape sequence '\\C'\n",
      "  folder_path = \"E:\\\\MLWorkspaces\\\\MTMHImageData\\Chest\\\\1\"  # Replace with your folder path\n"
     ]
    }
   ],
   "source": [
    "import listcontent\n",
    "# Example usage\n",
    "folder_path = \"E:\\\\MLWorkspaces\\\\MTMHImageData\\Chest\\\\1\"  # Replace with your folder path\n",
    "folderlist = None\n",
    "folderlist=listcontent.list_folder_contents(folder_path)\n",
    "#print(folderlist)\n",
    "if folderlist is not None:  # This should always be true now\n",
    "    for item in folderlist:\n",
    "        print(item + \"coba\")\n",
    "else:\n",
    "    print(\"Error: result is None, which should not happen.\")"
   ]
  }
 ],
 "metadata": {
  "kernelspec": {
   "display_name": "chestAbnormal1",
   "language": "python",
   "name": "python3"
  },
  "language_info": {
   "codemirror_mode": {
    "name": "ipython",
    "version": 3
   },
   "file_extension": ".py",
   "mimetype": "text/x-python",
   "name": "python",
   "nbconvert_exporter": "python",
   "pygments_lexer": "ipython3",
   "version": "3.12.7"
  }
 },
 "nbformat": 4,
 "nbformat_minor": 2
}
